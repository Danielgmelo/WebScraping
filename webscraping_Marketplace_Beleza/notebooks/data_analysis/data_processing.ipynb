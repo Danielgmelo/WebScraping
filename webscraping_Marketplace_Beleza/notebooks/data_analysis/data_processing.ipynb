{
 "cells": [
  {
   "cell_type": "markdown",
   "metadata": {},
   "source": [
    "### Objetivo:\n",
    "Aqui, vamos limpar os dados e incluir algumas colunas que serão úteis "
   ]
  },
  {
   "cell_type": "code",
   "execution_count": 155,
   "metadata": {},
   "outputs": [],
   "source": [
    "import pandas as pd\n",
    "import pre_processsing as pp\n",
    "%reload_ext autoreload\n",
    "%autoreload 2"
   ]
  },
  {
   "cell_type": "markdown",
   "metadata": {},
   "source": [
    "### Carregar os dados"
   ]
  },
  {
   "cell_type": "code",
   "execution_count": 230,
   "metadata": {},
   "outputs": [],
   "source": [
    "dtype = {'sku': 'object'}\n",
    "columns = ['sku', 'descricao', 'gross_price', 'price', 'pagamento', 'date', 'day', 'hour']\n",
    "\n",
    "df_bw = pd.read_csv('../../data/beleza_na_web.csv', decimal=',', dtype=dtype, encoding='latin-1', usecols=columns) \n",
    "df_sep = pd.read_csv('../../data/sephora.csv', decimal='.', dtype=dtype, encoding='latin-1', usecols=columns)\n",
    "df_ep = pd.read_csv('../../data/epoca.csv', decimal=',', dtype=dtype, encoding='latin-1', usecols=columns) \n",
    "\n",
    "df_bw['price'] = df_bw['price'].apply(lambda x:float(x.strip().replace(\".\",\"\").replace(\",\",\".\")))"
   ]
  },
  {
   "cell_type": "markdown",
   "metadata": {},
   "source": [
    "### Vamos focar num dia apenas"
   ]
  },
  {
   "cell_type": "code",
   "execution_count": 231,
   "metadata": {},
   "outputs": [],
   "source": [
    "to_filter = \"day == '05/06/20'\"\n",
    "\n",
    "df_bw = df_bw.query(to_filter)\n",
    "df_sep = df_sep.query(to_filter)\n",
    "df_ep = df_ep.query(to_filter)"
   ]
  },
  {
   "cell_type": "code",
   "execution_count": 232,
   "metadata": {},
   "outputs": [
    {
     "name": "stdout",
     "output_type": "stream",
     "text": [
      "df_bw\n",
      "<class 'pandas.core.frame.DataFrame'>\n",
      "Int64Index: 8028 entries, 14940 to 22967\n",
      "Data columns (total 8 columns):\n",
      " #   Column       Non-Null Count  Dtype  \n",
      "---  ------       --------------  -----  \n",
      " 0   sku          8028 non-null   object \n",
      " 1   descricao    8028 non-null   object \n",
      " 2   gross_price  3684 non-null   float64\n",
      " 3   price        8028 non-null   float64\n",
      " 4   pagamento    6147 non-null   object \n",
      " 5   date         8028 non-null   object \n",
      " 6   day          8028 non-null   object \n",
      " 7   hour         8028 non-null   object \n",
      "dtypes: float64(2), object(6)\n",
      "memory usage: 564.5+ KB\n",
      "---\n",
      "df_sep\n",
      "<class 'pandas.core.frame.DataFrame'>\n",
      "Int64Index: 8025 entries, 14309 to 22333\n",
      "Data columns (total 8 columns):\n",
      " #   Column       Non-Null Count  Dtype  \n",
      "---  ------       --------------  -----  \n",
      " 0   sku          8025 non-null   object \n",
      " 1   descricao    8025 non-null   object \n",
      " 2   gross_price  7926 non-null   float64\n",
      " 3   price        7926 non-null   float64\n",
      " 4   pagamento    7926 non-null   object \n",
      " 5   date         8025 non-null   object \n",
      " 6   day          8025 non-null   object \n",
      " 7   hour         8025 non-null   object \n",
      "dtypes: float64(2), object(6)\n",
      "memory usage: 564.3+ KB\n",
      "df_ep\n",
      "<class 'pandas.core.frame.DataFrame'>\n",
      "Int64Index: 960 entries, 0 to 959\n",
      "Data columns (total 8 columns):\n",
      " #   Column       Non-Null Count  Dtype  \n",
      "---  ------       --------------  -----  \n",
      " 0   sku          960 non-null    object \n",
      " 1   descricao    960 non-null    object \n",
      " 2   gross_price  548 non-null    float64\n",
      " 3   price        960 non-null    float64\n",
      " 4   pagamento    711 non-null    object \n",
      " 5   date         960 non-null    object \n",
      " 6   day          960 non-null    object \n",
      " 7   hour         960 non-null    object \n",
      "dtypes: float64(2), object(6)\n",
      "memory usage: 67.5+ KB\n"
     ]
    },
    {
     "data": {
      "text/plain": [
       "[None, None, None, None, None, None, None]"
      ]
     },
     "execution_count": 232,
     "metadata": {},
     "output_type": "execute_result"
    }
   ],
   "source": [
    "[print('df_bw'), df_bw.info(), \n",
    " print('---'),\n",
    " print('df_sep'), df_sep.info(),\n",
    " print('df_ep'), df_ep.info()]"
   ]
  },
  {
   "cell_type": "markdown",
   "metadata": {},
   "source": [
    "### Quantidade de registros únicos"
   ]
  },
  {
   "cell_type": "code",
   "execution_count": 233,
   "metadata": {},
   "outputs": [
    {
     "data": {
      "text/plain": [
       "['unicos:', {'df_bw': 420, 'df_sep': 356, 'df_ep': 333}]"
      ]
     },
     "execution_count": 233,
     "metadata": {},
     "output_type": "execute_result"
    }
   ],
   "source": [
    "['unicos:', {'df_bw': df_bw['sku'].nunique(), \n",
    "          'df_sep': df_sep['sku'].nunique(),\n",
    "            'df_ep': df_ep['sku'].nunique()}]"
   ]
  },
  {
   "cell_type": "markdown",
   "metadata": {},
   "source": [
    "### Acrescentar colunas"
   ]
  },
  {
   "cell_type": "code",
   "execution_count": 242,
   "metadata": {},
   "outputs": [],
   "source": [
    "# Coluna com o player\n",
    "df_bw = df_bw.assign(player='belezanaweb')\n",
    "df_ep = df_ep.assign(player='epoca')\n",
    "df_sep = df_sep.assign(player='sephora')\n",
    "\n",
    "# Juntar as 3 bases\n",
    "df_cons = pd.concat([df_bw,df_ep,df_sep]).reindex()\n",
    "\n",
    "# Trazar apenas produto com preço maior que zero e ordenar \n",
    "df_cons = df_cons.sort_values(['player', 'sku','date']).query(\"price > 0\")\n",
    "\n",
    "# Coluna booleana com True se houve alteração de preço em relação a hora anterior\n",
    "df_cons = df_cons.assign(change_price=df_cons.groupby(['player','sku'])['price'].diff().fillna(0).apply(lambda x: True if x != 0 else False))\n",
    "\n",
    "# Demais colunas\n",
    "df_cons = (df_cons.assign(date=pd.to_datetime(df_cons['date'])))\n",
    "df_cons = (df_cons.assign(gross_price=df_cons['gross_price'].fillna(0)))\n",
    "df_cons = df_cons.query(\"price > 0\")\n",
    "df_cons = df_cons.assign(gross_price=df_cons.apply(lambda x: x['price'] if x['gross_price'] == 0 else x['gross_price'], axis=1))\n",
    "df_cons = df_cons.assign(desconto=df_cons.apply(lambda x: True if x['price']<x['gross_price'] else False, axis=1))\n",
    "df_cons = df_cons.assign(perc_des=df_cons.apply(lambda x: (x['price']/x['gross_price']-1)*100 if x['desconto'] is True else 0, axis=1).round(2))\n",
    "df_cons = df_cons.assign(valor_des=df_cons.apply(lambda x: (x['price']-x['gross_price']) if x['desconto'] is True else 0, axis=1).round(2))"
   ]
  },
  {
   "cell_type": "markdown",
   "metadata": {},
   "source": [
    "### Amostra dos dados"
   ]
  },
  {
   "cell_type": "code",
   "execution_count": null,
   "metadata": {},
   "outputs": [],
   "source": [
    "df_cons.sample(20)"
   ]
  },
  {
   "cell_type": "markdown",
   "metadata": {},
   "source": [
    "### Salvar dados em csv"
   ]
  },
  {
   "cell_type": "code",
   "execution_count": 339,
   "metadata": {},
   "outputs": [],
   "source": [
    "pd.DataFrame.to_csv(df_cons, '../../data/dados_consolidados.csv', index=False)"
   ]
  }
 ],
 "metadata": {
  "kernelspec": {
   "display_name": "Python 3",
   "language": "python",
   "name": "python3"
  },
  "language_info": {
   "codemirror_mode": {
    "name": "ipython",
    "version": 3
   },
   "file_extension": ".py",
   "mimetype": "text/x-python",
   "name": "python",
   "nbconvert_exporter": "python",
   "pygments_lexer": "ipython3",
   "version": "3.7.6"
  }
 },
 "nbformat": 4,
 "nbformat_minor": 4
}
