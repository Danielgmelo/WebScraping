{
 "cells": [
  {
   "cell_type": "code",
   "execution_count": 7,
   "metadata": {},
   "outputs": [],
   "source": [
    "from selenium import webdriver\n",
    "from bs4 import BeautifulSoup as bs\n",
    "import pandas as pd\n",
    "import json\n",
    "import datetime\n",
    "from time import sleep\n",
    "import logging\n",
    "\n",
    "logging.basicConfig(level=logging.INFO)"
   ]
  },
  {
   "cell_type": "code",
   "execution_count": 83,
   "metadata": {},
   "outputs": [
    {
     "name": "stderr",
     "output_type": "stream",
     "text": [
      "INFO:root:Página https://www.epocacosmeticos.com.br/perfumes/perfume-feminino acessada\n"
     ]
    }
   ],
   "source": [
    "driver = webdriver.Chrome(\"C:/Users/daniel.melo/projetos/studies/webscraping/src/chromedriver.exe\")\n",
    "driver.get(\"https://www.epocacosmeticos.com.br/perfumes/perfume-feminino\")\n",
    "logging.info(f'Página {driver.current_url} acessada')"
   ]
  },
  {
   "cell_type": "code",
   "execution_count": 84,
   "metadata": {},
   "outputs": [],
   "source": [
    "content = driver.page_source\n",
    "soup = bs(content, 'html.parser')"
   ]
  },
  {
   "cell_type": "code",
   "execution_count": 85,
   "metadata": {},
   "outputs": [
    {
     "name": "stderr",
     "output_type": "stream",
     "text": [
      "INFO:root:20995\n",
      "INFO:root:13731\n",
      "INFO:root:9206\n",
      "INFO:root:4196\n",
      "INFO:root:33521\n",
      "INFO:root:8357\n",
      "INFO:root:8334\n",
      "INFO:root:5686\n",
      "INFO:root:909\n",
      "INFO:root:618\n",
      "INFO:root:39209\n",
      "INFO:root:34215\n",
      "INFO:root:30004\n",
      "INFO:root:29476\n",
      "INFO:root:27531\n",
      "INFO:root:25016\n",
      "INFO:root:20995\n",
      "INFO:root:13731\n",
      "INFO:root:9206\n",
      "INFO:root:4196\n",
      "INFO:root:33521\n",
      "INFO:root:8357\n",
      "INFO:root:8334\n",
      "INFO:root:5686\n",
      "INFO:root:909\n",
      "INFO:root:618\n",
      "INFO:root:39209\n",
      "INFO:root:34215\n",
      "INFO:root:30004\n",
      "INFO:root:29476\n",
      "INFO:root:27531\n",
      "INFO:root:25016\n",
      "INFO:root:20995\n",
      "INFO:root:13731\n",
      "INFO:root:9206\n",
      "INFO:root:4196\n",
      "INFO:root:33521\n",
      "INFO:root:8357\n",
      "INFO:root:8334\n",
      "INFO:root:5686\n",
      "INFO:root:909\n",
      "INFO:root:618\n",
      "INFO:root:39209\n",
      "INFO:root:34215\n",
      "INFO:root:30004\n",
      "INFO:root:29476\n",
      "INFO:root:27531\n",
      "INFO:root:25016\n",
      "INFO:root:Qtde de items mapeados: 48\n"
     ]
    }
   ],
   "source": [
    "day = datetime.datetime.now().strftime('%x')\n",
    "hour = datetime.datetime.now().strftime('%X')\n",
    "date = datetime.datetime.now()\n",
    "\n",
    "categoria = []\n",
    "sku = []\n",
    "descricao = []\n",
    "gross_price = []\n",
    "price = []\n",
    "pgto = []\n",
    "\n",
    "items_mapping = 0\n",
    "count = 0\n",
    "while count < 3:\n",
    "   \n",
    "    items = soup.find_all('li', class_ = 'perfumes-importados-em-promocao-|-frete-gratis-|-epoca-cosmeticos')\n",
    "    pagerbottom = soup.find_all('div', class_ = \"pager bottom\")[0]['id']\n",
    "    button_more_products = driver.find_element_by_xpath(f'//*[@id=\"{pagerbottom}\"]/ul/li[8]')\n",
    "    \n",
    "    for i in items: \n",
    "        sku_ = i.find('div', class_ = \"shelf-default__item\")['data-id']    \n",
    "        logging.info(sku_)\n",
    "\n",
    "        categoria.append(i.find('div', class_ = \"shelf-default__item\")['data-category'])\n",
    "\n",
    "        sku.append(i.find('div', class_ = \"shelf-default__item\")['data-id'])\n",
    "\n",
    "        descricao.append(i.find('div', class_ = \"shelf-default__item\")['title'])\n",
    "\n",
    "        try:\n",
    "            price.append(i.find('div', class_ = \"shelf-default__item\")['data-price'].replace('R$','').replace('.','').strip())\n",
    "        except:\n",
    "            price.append('')\n",
    "        pass\n",
    "\n",
    "        try:\n",
    "            gross_price.append(i.find('span', class_ = \"listprice\").text.replace('R$','').replace('.','').strip())\n",
    "        except:\n",
    "            gross_price.append('')\n",
    "        pass\n",
    "\n",
    "        try:\n",
    "            pgto.append(i.find('span', class_ = \"shelf-default__number-installment\").text.replace('\\n','').strip())\n",
    "        except:\n",
    "            pgto.append('')\n",
    "        pass\n",
    "\n",
    "        items_mapping += 1\n",
    "    \n",
    "    button_more_products.click()\n",
    "    count += 1\n",
    "    sleep(5)\n",
    "    \n",
    "logging.info(f'Qtde de items mapeados: {items_mapping}')\n"
   ]
  },
  {
   "cell_type": "code",
   "execution_count": 88,
   "metadata": {},
   "outputs": [
    {
     "name": "stderr",
     "output_type": "stream",
     "text": [
      "INFO:root:Salvo com susesso em ../data/epoca.csv\n"
     ]
    }
   ],
   "source": [
    "base = (pd.DataFrame({'sku':sku,\n",
    "                      'descricao':descricao,\n",
    "                      'gross_price':gross_price,\n",
    "                      'price':price,\n",
    "                      'pagamento': pgto,\n",
    "                      'date':date,\n",
    "                      'day':day,\n",
    "                      'hour':hour})\n",
    "        )\n",
    "\n",
    "local_save = '../data/epoca.csv'\n",
    "with open(local_save, 'a',  newline='') as f:\n",
    "    base.to_csv(f, header=f.tell()==0, index=False, decimal=',', encoding='latin-1')\n",
    "    logging.info(f'Salvo com susesso em {local_save}')"
   ]
  },
  {
   "cell_type": "code",
   "execution_count": 82,
   "metadata": {},
   "outputs": [],
   "source": [
    "driver.close()"
   ]
  }
 ],
 "metadata": {
  "kernelspec": {
   "display_name": "Python 3",
   "language": "python",
   "name": "python3"
  },
  "language_info": {
   "codemirror_mode": {
    "name": "ipython",
    "version": 3
   },
   "file_extension": ".py",
   "mimetype": "text/x-python",
   "name": "python",
   "nbconvert_exporter": "python",
   "pygments_lexer": "ipython3",
   "version": "3.7.6"
  }
 },
 "nbformat": 4,
 "nbformat_minor": 4
}
